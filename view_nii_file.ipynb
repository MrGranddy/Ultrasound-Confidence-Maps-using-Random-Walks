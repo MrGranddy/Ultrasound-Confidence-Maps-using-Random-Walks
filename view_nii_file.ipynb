{
 "cells": [
  {
   "cell_type": "code",
   "execution_count": null,
   "metadata": {},
   "outputs": [],
   "source": [
    "import matplotlib.pyplot as plt\n",
    "import nibabel as nib\n",
    "import numpy as np"
   ]
  },
  {
   "cell_type": "code",
   "execution_count": null,
   "metadata": {},
   "outputs": [],
   "source": [
    "nii_file_path = \"../data/LAV_SA.nii\""
   ]
  },
  {
   "cell_type": "code",
   "execution_count": null,
   "metadata": {},
   "outputs": [],
   "source": [
    "# Read nii file\n",
    "nii_file = nib.load(nii_file_path)\n",
    "nii_file_data = nii_file.get_fdata()\n"
   ]
  },
  {
   "cell_type": "code",
   "execution_count": null,
   "metadata": {},
   "outputs": [],
   "source": [
    "# Plot random slices\n",
    "\n",
    "num_slices = nii_file_data.shape[2]\n",
    "num_rows = 4\n",
    "num_cols = 4\n",
    "\n",
    "fig, axes = plt.subplots(num_rows, num_cols, figsize=(20, 20))\n",
    "\n",
    "for i in range(num_rows):\n",
    "    for j in range(num_cols):\n",
    "        slice_index = np.random.randint(num_slices)\n",
    "        axes[i, j].imshow(nii_file_data[..., slice_index], cmap=\"gray\")\n",
    "        axes[i, j].axis(\"off\")\n",
    "        axes[i, j].set_title(f\"Slice {slice_index}\")\n",
    "\n",
    "plt.show()\n"
   ]
  },
  {
   "cell_type": "code",
   "execution_count": null,
   "metadata": {},
   "outputs": [],
   "source": [
    "confidence_map_path = \"../confidence_map_3d_LAV_SA.nii\""
   ]
  },
  {
   "cell_type": "code",
   "execution_count": null,
   "metadata": {},
   "outputs": [],
   "source": [
    "# Read confidence map\n",
    "\n",
    "confidence_map = nib.load(confidence_map_path)\n",
    "confidence_map_data = confidence_map.get_fdata()\n",
    "\n",
    "confidence_map_data = np.clip(confidence_map_data, 0, 1) * 255\n",
    "confidence_map_data = confidence_map_data.astype(np.uint8)"
   ]
  },
  {
   "cell_type": "code",
   "execution_count": null,
   "metadata": {},
   "outputs": [],
   "source": [
    "# Plot random slices with corresponding confidence maps side by side\n",
    "\n",
    "num_slices = confidence_map_data.shape[2]\n",
    "num_rows = 4\n",
    "num_cols = 4\n",
    "\n",
    "fig, axes = plt.subplots(num_rows, num_cols, figsize=(20, 20))\n",
    "\n",
    "for i in range(num_rows):\n",
    "    for j in range(num_cols):\n",
    "        slice_index = np.random.randint(num_slices)\n",
    "\n",
    "        nii_slice = nii_file_data[..., slice_index]\n",
    "        confidence_map_slice = confidence_map_data[..., slice_index]\n",
    "\n",
    "\n",
    "        concat = np.concatenate((nii_slice, confidence_map_slice), axis=1)\n",
    "\n",
    "        axes[i, j].imshow(concat, cmap=\"gray\")\n",
    "        axes[i, j].axis(\"off\")\n",
    "        axes[i, j].set_title(f\"Slice {slice_index}\")\n",
    "\n",
    "plt.show()\n"
   ]
  },
  {
   "cell_type": "code",
   "execution_count": null,
   "metadata": {},
   "outputs": [],
   "source": []
  },
  {
   "cell_type": "code",
   "execution_count": null,
   "metadata": {},
   "outputs": [],
   "source": []
  }
 ],
 "metadata": {
  "kernelspec": {
   "display_name": "Python 3",
   "language": "python",
   "name": "python3"
  },
  "language_info": {
   "codemirror_mode": {
    "name": "ipython",
    "version": 3
   },
   "file_extension": ".py",
   "mimetype": "text/x-python",
   "name": "python",
   "nbconvert_exporter": "python",
   "pygments_lexer": "ipython3",
   "version": "3.10.8"
  },
  "orig_nbformat": 4
 },
 "nbformat": 4,
 "nbformat_minor": 2
}
